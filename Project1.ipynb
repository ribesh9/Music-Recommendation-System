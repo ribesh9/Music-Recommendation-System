{
 "cells": [
  {
   "cell_type": "markdown",
   "id": "09d052ae-4524-4852-aaed-a65987d55325",
   "metadata": {},
   "source": [
    "### Importing the packages"
   ]
  },
  {
   "cell_type": "code",
   "execution_count": 2,
   "id": "a6b3a24a-a789-4b12-8766-cd29f81e3735",
   "metadata": {},
   "outputs": [],
   "source": [
    "import pandas as pd\n",
    "import numpy as np\n",
    "import matplotlib.pyplot as plt\n",
    "import seaborn as sns\n",
    "import nltk\n",
    "from nltk.stem.porter import PorterStemmer\n",
    "from sklearn.feature_extraction.text import TfidfVectorizer\n",
    "from sklearn.metrics.pairwise import cosine_similarity"
   ]
  },
  {
   "cell_type": "code",
   "execution_count": 3,
   "id": "85b7f117-40d5-49a2-a62c-f745a5076194",
   "metadata": {},
   "outputs": [],
   "source": [
    "df = pd.read_csv(r\"D:\\Data Mining\\music data set\\spotify_millsongdata.csv\")"
   ]
  },
  {
   "cell_type": "code",
   "execution_count": 5,
   "id": "3b3876d5-2072-4bb1-8682-9ed2d0ce45aa",
   "metadata": {},
   "outputs": [
    {
     "data": {
      "text/html": [
       "<div>\n",
       "<style scoped>\n",
       "    .dataframe tbody tr th:only-of-type {\n",
       "        vertical-align: middle;\n",
       "    }\n",
       "\n",
       "    .dataframe tbody tr th {\n",
       "        vertical-align: top;\n",
       "    }\n",
       "\n",
       "    .dataframe thead th {\n",
       "        text-align: right;\n",
       "    }\n",
       "</style>\n",
       "<table border=\"1\" class=\"dataframe\">\n",
       "  <thead>\n",
       "    <tr style=\"text-align: right;\">\n",
       "      <th></th>\n",
       "      <th>artist</th>\n",
       "      <th>song</th>\n",
       "      <th>link</th>\n",
       "      <th>text</th>\n",
       "    </tr>\n",
       "  </thead>\n",
       "  <tbody>\n",
       "    <tr>\n",
       "      <th>0</th>\n",
       "      <td>ABBA</td>\n",
       "      <td>Ahe's My Kind Of Girl</td>\n",
       "      <td>/a/abba/ahes+my+kind+of+girl_20598417.html</td>\n",
       "      <td>Look at her face, it's a wonderful face  \\r\\nA...</td>\n",
       "    </tr>\n",
       "    <tr>\n",
       "      <th>1</th>\n",
       "      <td>ABBA</td>\n",
       "      <td>Andante, Andante</td>\n",
       "      <td>/a/abba/andante+andante_20002708.html</td>\n",
       "      <td>Take it easy with me, please  \\r\\nTouch me gen...</td>\n",
       "    </tr>\n",
       "    <tr>\n",
       "      <th>2</th>\n",
       "      <td>ABBA</td>\n",
       "      <td>As Good As New</td>\n",
       "      <td>/a/abba/as+good+as+new_20003033.html</td>\n",
       "      <td>I'll never know why I had to go  \\r\\nWhy I had...</td>\n",
       "    </tr>\n",
       "    <tr>\n",
       "      <th>3</th>\n",
       "      <td>ABBA</td>\n",
       "      <td>Bang</td>\n",
       "      <td>/a/abba/bang_20598415.html</td>\n",
       "      <td>Making somebody happy is a question of give an...</td>\n",
       "    </tr>\n",
       "    <tr>\n",
       "      <th>4</th>\n",
       "      <td>ABBA</td>\n",
       "      <td>Bang-A-Boomerang</td>\n",
       "      <td>/a/abba/bang+a+boomerang_20002668.html</td>\n",
       "      <td>Making somebody happy is a question of give an...</td>\n",
       "    </tr>\n",
       "  </tbody>\n",
       "</table>\n",
       "</div>"
      ],
      "text/plain": [
       "  artist                   song                                        link  \\\n",
       "0   ABBA  Ahe's My Kind Of Girl  /a/abba/ahes+my+kind+of+girl_20598417.html   \n",
       "1   ABBA       Andante, Andante       /a/abba/andante+andante_20002708.html   \n",
       "2   ABBA         As Good As New        /a/abba/as+good+as+new_20003033.html   \n",
       "3   ABBA                   Bang                  /a/abba/bang_20598415.html   \n",
       "4   ABBA       Bang-A-Boomerang      /a/abba/bang+a+boomerang_20002668.html   \n",
       "\n",
       "                                                text  \n",
       "0  Look at her face, it's a wonderful face  \\r\\nA...  \n",
       "1  Take it easy with me, please  \\r\\nTouch me gen...  \n",
       "2  I'll never know why I had to go  \\r\\nWhy I had...  \n",
       "3  Making somebody happy is a question of give an...  \n",
       "4  Making somebody happy is a question of give an...  "
      ]
     },
     "execution_count": 5,
     "metadata": {},
     "output_type": "execute_result"
    }
   ],
   "source": [
    "df.head()"
   ]
  },
  {
   "cell_type": "code",
   "execution_count": 6,
   "id": "a0c558f6-2761-4e19-ac56-bc6c35eb9474",
   "metadata": {},
   "outputs": [
    {
     "data": {
      "text/html": [
       "<div>\n",
       "<style scoped>\n",
       "    .dataframe tbody tr th:only-of-type {\n",
       "        vertical-align: middle;\n",
       "    }\n",
       "\n",
       "    .dataframe tbody tr th {\n",
       "        vertical-align: top;\n",
       "    }\n",
       "\n",
       "    .dataframe thead th {\n",
       "        text-align: right;\n",
       "    }\n",
       "</style>\n",
       "<table border=\"1\" class=\"dataframe\">\n",
       "  <thead>\n",
       "    <tr style=\"text-align: right;\">\n",
       "      <th></th>\n",
       "      <th>artist</th>\n",
       "      <th>song</th>\n",
       "      <th>link</th>\n",
       "      <th>text</th>\n",
       "    </tr>\n",
       "  </thead>\n",
       "  <tbody>\n",
       "    <tr>\n",
       "      <th>57645</th>\n",
       "      <td>Ziggy Marley</td>\n",
       "      <td>Good Old Days</td>\n",
       "      <td>/z/ziggy+marley/good+old+days_10198588.html</td>\n",
       "      <td>Irie days come on play  \\r\\nLet the angels fly...</td>\n",
       "    </tr>\n",
       "    <tr>\n",
       "      <th>57646</th>\n",
       "      <td>Ziggy Marley</td>\n",
       "      <td>Hand To Mouth</td>\n",
       "      <td>/z/ziggy+marley/hand+to+mouth_20531167.html</td>\n",
       "      <td>Power to the workers  \\r\\nMore power  \\r\\nPowe...</td>\n",
       "    </tr>\n",
       "    <tr>\n",
       "      <th>57647</th>\n",
       "      <td>Zwan</td>\n",
       "      <td>Come With Me</td>\n",
       "      <td>/z/zwan/come+with+me_20148981.html</td>\n",
       "      <td>all you need  \\r\\nis something i'll believe  \\...</td>\n",
       "    </tr>\n",
       "    <tr>\n",
       "      <th>57648</th>\n",
       "      <td>Zwan</td>\n",
       "      <td>Desire</td>\n",
       "      <td>/z/zwan/desire_20148986.html</td>\n",
       "      <td>northern star  \\r\\nam i frightened  \\r\\nwhere ...</td>\n",
       "    </tr>\n",
       "    <tr>\n",
       "      <th>57649</th>\n",
       "      <td>Zwan</td>\n",
       "      <td>Heartsong</td>\n",
       "      <td>/z/zwan/heartsong_20148991.html</td>\n",
       "      <td>come in  \\r\\nmake yourself at home  \\r\\ni'm a ...</td>\n",
       "    </tr>\n",
       "  </tbody>\n",
       "</table>\n",
       "</div>"
      ],
      "text/plain": [
       "             artist           song  \\\n",
       "57645  Ziggy Marley  Good Old Days   \n",
       "57646  Ziggy Marley  Hand To Mouth   \n",
       "57647          Zwan   Come With Me   \n",
       "57648          Zwan         Desire   \n",
       "57649          Zwan      Heartsong   \n",
       "\n",
       "                                              link  \\\n",
       "57645  /z/ziggy+marley/good+old+days_10198588.html   \n",
       "57646  /z/ziggy+marley/hand+to+mouth_20531167.html   \n",
       "57647           /z/zwan/come+with+me_20148981.html   \n",
       "57648                 /z/zwan/desire_20148986.html   \n",
       "57649              /z/zwan/heartsong_20148991.html   \n",
       "\n",
       "                                                    text  \n",
       "57645  Irie days come on play  \\r\\nLet the angels fly...  \n",
       "57646  Power to the workers  \\r\\nMore power  \\r\\nPowe...  \n",
       "57647  all you need  \\r\\nis something i'll believe  \\...  \n",
       "57648  northern star  \\r\\nam i frightened  \\r\\nwhere ...  \n",
       "57649  come in  \\r\\nmake yourself at home  \\r\\ni'm a ...  "
      ]
     },
     "execution_count": 6,
     "metadata": {},
     "output_type": "execute_result"
    }
   ],
   "source": [
    "df.tail()"
   ]
  },
  {
   "cell_type": "code",
   "execution_count": 7,
   "id": "765b1220-b016-4855-b659-d42990875ad7",
   "metadata": {},
   "outputs": [
    {
     "data": {
      "text/html": [
       "<div>\n",
       "<style scoped>\n",
       "    .dataframe tbody tr th:only-of-type {\n",
       "        vertical-align: middle;\n",
       "    }\n",
       "\n",
       "    .dataframe tbody tr th {\n",
       "        vertical-align: top;\n",
       "    }\n",
       "\n",
       "    .dataframe thead th {\n",
       "        text-align: right;\n",
       "    }\n",
       "</style>\n",
       "<table border=\"1\" class=\"dataframe\">\n",
       "  <thead>\n",
       "    <tr style=\"text-align: right;\">\n",
       "      <th></th>\n",
       "      <th>artist</th>\n",
       "      <th>song</th>\n",
       "      <th>link</th>\n",
       "      <th>text</th>\n",
       "    </tr>\n",
       "  </thead>\n",
       "  <tbody>\n",
       "    <tr>\n",
       "      <th>count</th>\n",
       "      <td>57650</td>\n",
       "      <td>57650</td>\n",
       "      <td>57650</td>\n",
       "      <td>57650</td>\n",
       "    </tr>\n",
       "    <tr>\n",
       "      <th>unique</th>\n",
       "      <td>643</td>\n",
       "      <td>44824</td>\n",
       "      <td>57650</td>\n",
       "      <td>57494</td>\n",
       "    </tr>\n",
       "    <tr>\n",
       "      <th>top</th>\n",
       "      <td>Donna Summer</td>\n",
       "      <td>Have Yourself A Merry Little Christmas</td>\n",
       "      <td>/z/zwan/heartsong_20148991.html</td>\n",
       "      <td>I just came back from a lovely trip along the ...</td>\n",
       "    </tr>\n",
       "    <tr>\n",
       "      <th>freq</th>\n",
       "      <td>191</td>\n",
       "      <td>35</td>\n",
       "      <td>1</td>\n",
       "      <td>6</td>\n",
       "    </tr>\n",
       "  </tbody>\n",
       "</table>\n",
       "</div>"
      ],
      "text/plain": [
       "              artist                                    song  \\\n",
       "count          57650                                   57650   \n",
       "unique           643                                   44824   \n",
       "top     Donna Summer  Have Yourself A Merry Little Christmas   \n",
       "freq             191                                      35   \n",
       "\n",
       "                                   link  \\\n",
       "count                             57650   \n",
       "unique                            57650   \n",
       "top     /z/zwan/heartsong_20148991.html   \n",
       "freq                                  1   \n",
       "\n",
       "                                                     text  \n",
       "count                                               57650  \n",
       "unique                                              57494  \n",
       "top     I just came back from a lovely trip along the ...  \n",
       "freq                                                    6  "
      ]
     },
     "execution_count": 7,
     "metadata": {},
     "output_type": "execute_result"
    }
   ],
   "source": [
    "df.describe().round(2)"
   ]
  },
  {
   "cell_type": "code",
   "execution_count": 8,
   "id": "f6feceba-746c-4e0b-a6f8-179c474f1024",
   "metadata": {},
   "outputs": [
    {
     "name": "stdout",
     "output_type": "stream",
     "text": [
      "<class 'pandas.core.frame.DataFrame'>\n",
      "RangeIndex: 57650 entries, 0 to 57649\n",
      "Data columns (total 4 columns):\n",
      " #   Column  Non-Null Count  Dtype \n",
      "---  ------  --------------  ----- \n",
      " 0   artist  57650 non-null  object\n",
      " 1   song    57650 non-null  object\n",
      " 2   link    57650 non-null  object\n",
      " 3   text    57650 non-null  object\n",
      "dtypes: object(4)\n",
      "memory usage: 1.8+ MB\n"
     ]
    }
   ],
   "source": [
    "df.info()"
   ]
  },
  {
   "cell_type": "code",
   "execution_count": 9,
   "id": "ed87b676-e933-4198-8035-49eb6702e936",
   "metadata": {},
   "outputs": [
    {
     "data": {
      "text/plain": [
       "artist    0\n",
       "song      0\n",
       "link      0\n",
       "text      0\n",
       "dtype: int64"
      ]
     },
     "execution_count": 9,
     "metadata": {},
     "output_type": "execute_result"
    }
   ],
   "source": [
    "df.isna().sum()"
   ]
  },
  {
   "cell_type": "code",
   "execution_count": 10,
   "id": "8110b7e0-02ac-45cc-ad53-81a126108766",
   "metadata": {},
   "outputs": [
    {
     "data": {
      "text/plain": [
       "np.int64(0)"
      ]
     },
     "execution_count": 10,
     "metadata": {},
     "output_type": "execute_result"
    }
   ],
   "source": [
    "df.duplicated().sum()"
   ]
  },
  {
   "cell_type": "code",
   "execution_count": 11,
   "id": "7e60c026-9003-4c6d-a99f-8380e84e5167",
   "metadata": {},
   "outputs": [
    {
     "data": {
      "text/plain": [
       "(57650, 4)"
      ]
     },
     "execution_count": 11,
     "metadata": {},
     "output_type": "execute_result"
    }
   ],
   "source": [
    "df.shape"
   ]
  },
  {
   "cell_type": "code",
   "execution_count": 12,
   "id": "49a15e95-7a48-4d28-b1b8-35e60679dfc4",
   "metadata": {},
   "outputs": [],
   "source": [
    "df = df.sample(20000).drop('link', axis=1).reset_index(drop = True)"
   ]
  },
  {
   "cell_type": "code",
   "execution_count": 13,
   "id": "e5619152-73ee-4c73-a0cf-db887b93943a",
   "metadata": {},
   "outputs": [
    {
     "data": {
      "text/html": [
       "<div>\n",
       "<style scoped>\n",
       "    .dataframe tbody tr th:only-of-type {\n",
       "        vertical-align: middle;\n",
       "    }\n",
       "\n",
       "    .dataframe tbody tr th {\n",
       "        vertical-align: top;\n",
       "    }\n",
       "\n",
       "    .dataframe thead th {\n",
       "        text-align: right;\n",
       "    }\n",
       "</style>\n",
       "<table border=\"1\" class=\"dataframe\">\n",
       "  <thead>\n",
       "    <tr style=\"text-align: right;\">\n",
       "      <th></th>\n",
       "      <th>artist</th>\n",
       "      <th>song</th>\n",
       "      <th>text</th>\n",
       "    </tr>\n",
       "  </thead>\n",
       "  <tbody>\n",
       "    <tr>\n",
       "      <th>0</th>\n",
       "      <td>Wanda Jackson</td>\n",
       "      <td>No Place To Go But Home</td>\n",
       "      <td>They turned out the lights friends have said t...</td>\n",
       "    </tr>\n",
       "    <tr>\n",
       "      <th>1</th>\n",
       "      <td>Tragically Hip</td>\n",
       "      <td>Let's Stay Engaged</td>\n",
       "      <td>It might be late  \\r\\nBut it won't be early  \\...</td>\n",
       "    </tr>\n",
       "    <tr>\n",
       "      <th>2</th>\n",
       "      <td>Alice Cooper</td>\n",
       "      <td>Little By Little</td>\n",
       "      <td>Black leather gloves and your lipstick shines ...</td>\n",
       "    </tr>\n",
       "    <tr>\n",
       "      <th>3</th>\n",
       "      <td>Natalie Grant</td>\n",
       "      <td>Wonderful Life</td>\n",
       "      <td>Beautiful is in the sky  \\r\\nWatch it slowly  ...</td>\n",
       "    </tr>\n",
       "    <tr>\n",
       "      <th>4</th>\n",
       "      <td>Nine Inch Nails</td>\n",
       "      <td>All Time Low</td>\n",
       "      <td>Go  \\r\\nI've heard all I need to know  \\r\\nYou...</td>\n",
       "    </tr>\n",
       "    <tr>\n",
       "      <th>...</th>\n",
       "      <td>...</td>\n",
       "      <td>...</td>\n",
       "      <td>...</td>\n",
       "    </tr>\n",
       "    <tr>\n",
       "      <th>19995</th>\n",
       "      <td>John Legend</td>\n",
       "      <td>Pride, In The Name Of Love</td>\n",
       "      <td>One man come in the name of love  \\r\\nOne man ...</td>\n",
       "    </tr>\n",
       "    <tr>\n",
       "      <th>19996</th>\n",
       "      <td>Iron Maiden</td>\n",
       "      <td>Lightning Strikes Twice</td>\n",
       "      <td>I feel the breeze on my face in expectance  \\r...</td>\n",
       "    </tr>\n",
       "    <tr>\n",
       "      <th>19997</th>\n",
       "      <td>Nirvana</td>\n",
       "      <td>Oh Me</td>\n",
       "      <td>If I had to lose a mile  \\r\\nIf I had to touch...</td>\n",
       "    </tr>\n",
       "    <tr>\n",
       "      <th>19998</th>\n",
       "      <td>Justin Bieber</td>\n",
       "      <td>Go The Distance</td>\n",
       "      <td>I have often dreamed  \\r\\nOf a far off place  ...</td>\n",
       "    </tr>\n",
       "    <tr>\n",
       "      <th>19999</th>\n",
       "      <td>Roy Orbison</td>\n",
       "      <td>Hey Good Lookin'</td>\n",
       "      <td>Hey, good lookin' what you got cookin'?  \\r\\nH...</td>\n",
       "    </tr>\n",
       "  </tbody>\n",
       "</table>\n",
       "<p>20000 rows × 3 columns</p>\n",
       "</div>"
      ],
      "text/plain": [
       "                artist                        song  \\\n",
       "0        Wanda Jackson     No Place To Go But Home   \n",
       "1       Tragically Hip          Let's Stay Engaged   \n",
       "2         Alice Cooper            Little By Little   \n",
       "3        Natalie Grant              Wonderful Life   \n",
       "4      Nine Inch Nails                All Time Low   \n",
       "...                ...                         ...   \n",
       "19995      John Legend  Pride, In The Name Of Love   \n",
       "19996      Iron Maiden     Lightning Strikes Twice   \n",
       "19997          Nirvana                       Oh Me   \n",
       "19998    Justin Bieber             Go The Distance   \n",
       "19999      Roy Orbison            Hey Good Lookin'   \n",
       "\n",
       "                                                    text  \n",
       "0      They turned out the lights friends have said t...  \n",
       "1      It might be late  \\r\\nBut it won't be early  \\...  \n",
       "2      Black leather gloves and your lipstick shines ...  \n",
       "3      Beautiful is in the sky  \\r\\nWatch it slowly  ...  \n",
       "4      Go  \\r\\nI've heard all I need to know  \\r\\nYou...  \n",
       "...                                                  ...  \n",
       "19995  One man come in the name of love  \\r\\nOne man ...  \n",
       "19996  I feel the breeze on my face in expectance  \\r...  \n",
       "19997  If I had to lose a mile  \\r\\nIf I had to touch...  \n",
       "19998  I have often dreamed  \\r\\nOf a far off place  ...  \n",
       "19999  Hey, good lookin' what you got cookin'?  \\r\\nH...  \n",
       "\n",
       "[20000 rows x 3 columns]"
      ]
     },
     "execution_count": 13,
     "metadata": {},
     "output_type": "execute_result"
    }
   ],
   "source": [
    "df"
   ]
  },
  {
   "cell_type": "markdown",
   "id": "0f362f1a-a045-4c9d-aa5a-8e07e7d8b787",
   "metadata": {},
   "source": [
    "### Text Preprocessing"
   ]
  },
  {
   "cell_type": "code",
   "execution_count": 14,
   "id": "4c869744-a781-45e3-bc0b-b127a1e0fbfd",
   "metadata": {},
   "outputs": [
    {
     "data": {
      "text/plain": [
       "\"They turned out the lights friends have said there goodnight  \\r\\nNow there's no place to go but home  \\r\\nI've had a beautiful evening for awhile I've forgot you were gone  \\r\\nNow you're back on my mind how I hate closing time  \\r\\nFor there's no place to go but home  \\r\\nNo place to go but home and nobody home when I get there  \\r\\nThey turned out the lights friends have said their goodnight  \\r\\nNow there's no place to go but home  \\r\\n  \\r\\n[ ac.guitar - steel ]  \\r\\n  \\r\\nI drive through this ghost of the city and I've never felt so alone  \\r\\nIt's the world's time to sleep and my time to weep  \\r\\nFor there's no place to go but home for there's no place to go but home\\r\\n\\r\\n\""
      ]
     },
     "execution_count": 14,
     "metadata": {},
     "output_type": "execute_result"
    }
   ],
   "source": [
    "df['text'][0]"
   ]
  },
  {
   "cell_type": "code",
   "execution_count": 15,
   "id": "58791412-c452-4f31-8f47-d279d819efe8",
   "metadata": {},
   "outputs": [],
   "source": [
    "data = df.copy()"
   ]
  },
  {
   "cell_type": "code",
   "execution_count": 16,
   "id": "c8f26bef-70ef-4757-af8e-a360c15b8f3e",
   "metadata": {},
   "outputs": [],
   "source": [
    "df['text'] = df['text'].str.lower().replace(r'^a-zA-Z0-9',' ').replace(r'\\n',' ',regex = True) #we can also use \\W\\s for regular expression"
   ]
  },
  {
   "cell_type": "code",
   "execution_count": 17,
   "id": "8a09c370-649b-447e-b544-0083b77939f4",
   "metadata": {},
   "outputs": [
    {
     "data": {
      "text/html": [
       "<div>\n",
       "<style scoped>\n",
       "    .dataframe tbody tr th:only-of-type {\n",
       "        vertical-align: middle;\n",
       "    }\n",
       "\n",
       "    .dataframe tbody tr th {\n",
       "        vertical-align: top;\n",
       "    }\n",
       "\n",
       "    .dataframe thead th {\n",
       "        text-align: right;\n",
       "    }\n",
       "</style>\n",
       "<table border=\"1\" class=\"dataframe\">\n",
       "  <thead>\n",
       "    <tr style=\"text-align: right;\">\n",
       "      <th></th>\n",
       "      <th>artist</th>\n",
       "      <th>song</th>\n",
       "      <th>text</th>\n",
       "    </tr>\n",
       "  </thead>\n",
       "  <tbody>\n",
       "    <tr>\n",
       "      <th>0</th>\n",
       "      <td>Wanda Jackson</td>\n",
       "      <td>No Place To Go But Home</td>\n",
       "      <td>they turned out the lights friends have said t...</td>\n",
       "    </tr>\n",
       "    <tr>\n",
       "      <th>1</th>\n",
       "      <td>Tragically Hip</td>\n",
       "      <td>Let's Stay Engaged</td>\n",
       "      <td>it might be late  \\r but it won't be early  \\r...</td>\n",
       "    </tr>\n",
       "    <tr>\n",
       "      <th>2</th>\n",
       "      <td>Alice Cooper</td>\n",
       "      <td>Little By Little</td>\n",
       "      <td>black leather gloves and your lipstick shines ...</td>\n",
       "    </tr>\n",
       "    <tr>\n",
       "      <th>3</th>\n",
       "      <td>Natalie Grant</td>\n",
       "      <td>Wonderful Life</td>\n",
       "      <td>beautiful is in the sky  \\r watch it slowly  \\...</td>\n",
       "    </tr>\n",
       "    <tr>\n",
       "      <th>4</th>\n",
       "      <td>Nine Inch Nails</td>\n",
       "      <td>All Time Low</td>\n",
       "      <td>go  \\r i've heard all i need to know  \\r your ...</td>\n",
       "    </tr>\n",
       "    <tr>\n",
       "      <th>...</th>\n",
       "      <td>...</td>\n",
       "      <td>...</td>\n",
       "      <td>...</td>\n",
       "    </tr>\n",
       "    <tr>\n",
       "      <th>19995</th>\n",
       "      <td>John Legend</td>\n",
       "      <td>Pride, In The Name Of Love</td>\n",
       "      <td>one man come in the name of love  \\r one man c...</td>\n",
       "    </tr>\n",
       "    <tr>\n",
       "      <th>19996</th>\n",
       "      <td>Iron Maiden</td>\n",
       "      <td>Lightning Strikes Twice</td>\n",
       "      <td>i feel the breeze on my face in expectance  \\r...</td>\n",
       "    </tr>\n",
       "    <tr>\n",
       "      <th>19997</th>\n",
       "      <td>Nirvana</td>\n",
       "      <td>Oh Me</td>\n",
       "      <td>if i had to lose a mile  \\r if i had to touch ...</td>\n",
       "    </tr>\n",
       "    <tr>\n",
       "      <th>19998</th>\n",
       "      <td>Justin Bieber</td>\n",
       "      <td>Go The Distance</td>\n",
       "      <td>i have often dreamed  \\r of a far off place  \\...</td>\n",
       "    </tr>\n",
       "    <tr>\n",
       "      <th>19999</th>\n",
       "      <td>Roy Orbison</td>\n",
       "      <td>Hey Good Lookin'</td>\n",
       "      <td>hey, good lookin' what you got cookin'?  \\r ho...</td>\n",
       "    </tr>\n",
       "  </tbody>\n",
       "</table>\n",
       "<p>20000 rows × 3 columns</p>\n",
       "</div>"
      ],
      "text/plain": [
       "                artist                        song  \\\n",
       "0        Wanda Jackson     No Place To Go But Home   \n",
       "1       Tragically Hip          Let's Stay Engaged   \n",
       "2         Alice Cooper            Little By Little   \n",
       "3        Natalie Grant              Wonderful Life   \n",
       "4      Nine Inch Nails                All Time Low   \n",
       "...                ...                         ...   \n",
       "19995      John Legend  Pride, In The Name Of Love   \n",
       "19996      Iron Maiden     Lightning Strikes Twice   \n",
       "19997          Nirvana                       Oh Me   \n",
       "19998    Justin Bieber             Go The Distance   \n",
       "19999      Roy Orbison            Hey Good Lookin'   \n",
       "\n",
       "                                                    text  \n",
       "0      they turned out the lights friends have said t...  \n",
       "1      it might be late  \\r but it won't be early  \\r...  \n",
       "2      black leather gloves and your lipstick shines ...  \n",
       "3      beautiful is in the sky  \\r watch it slowly  \\...  \n",
       "4      go  \\r i've heard all i need to know  \\r your ...  \n",
       "...                                                  ...  \n",
       "19995  one man come in the name of love  \\r one man c...  \n",
       "19996  i feel the breeze on my face in expectance  \\r...  \n",
       "19997  if i had to lose a mile  \\r if i had to touch ...  \n",
       "19998  i have often dreamed  \\r of a far off place  \\...  \n",
       "19999  hey, good lookin' what you got cookin'?  \\r ho...  \n",
       "\n",
       "[20000 rows x 3 columns]"
      ]
     },
     "execution_count": 17,
     "metadata": {},
     "output_type": "execute_result"
    }
   ],
   "source": [
    "df"
   ]
  },
  {
   "cell_type": "code",
   "execution_count": 18,
   "id": "02b201fb-8724-4cd7-8c92-bb393a54c820",
   "metadata": {},
   "outputs": [],
   "source": [
    "stemmer = PorterStemmer()"
   ]
  },
  {
   "cell_type": "code",
   "execution_count": 29,
   "id": "ad639282-6e8f-44a2-94e2-2b95067d0031",
   "metadata": {},
   "outputs": [],
   "source": [
    "def tokens(txt):\n",
    "    tokens = nltk.word_tokenize(txt)\n",
    "    a = [stemmer.stem(w) for w in tokens]\n",
    "    return \" \".join(a)"
   ]
  },
  {
   "cell_type": "code",
   "execution_count": 30,
   "id": "61592563-800d-4616-85b2-4ea5582c3c7e",
   "metadata": {},
   "outputs": [
    {
     "data": {
      "text/plain": [
       "'you are beauti , beauti'"
      ]
     },
     "execution_count": 30,
     "metadata": {},
     "output_type": "execute_result"
    }
   ],
   "source": [
    "tokens(\"you are beautiful,beauty\")"
   ]
  },
  {
   "cell_type": "code",
   "execution_count": 31,
   "id": "94ebdca8-d62c-4881-b1d4-d2c01ead81ea",
   "metadata": {},
   "outputs": [
    {
     "data": {
      "text/plain": [
       "0        they turn out the light friend have said there...\n",
       "1        it might be late but it wo n't be earli you go...\n",
       "2        black leather glove and your lipstick shine br...\n",
       "3        beauti is in the sky watch it slowli all our t...\n",
       "4        go i 've heard all i need to know your voic in...\n",
       "                               ...                        \n",
       "19995    one man come in the name of love one man come ...\n",
       "19996    i feel the breez on my face in expect not veri...\n",
       "19997    if i had to lose a mile if i had to touch feel...\n",
       "19998    i have often dream of a far off place where a ...\n",
       "19999    hey , good lookin ' what you got cookin ' ? ho...\n",
       "Name: text, Length: 20000, dtype: object"
      ]
     },
     "execution_count": 31,
     "metadata": {},
     "output_type": "execute_result"
    }
   ],
   "source": [
    "df['text'].apply(lambda x : tokens(x))"
   ]
  },
  {
   "cell_type": "code",
   "execution_count": 32,
   "id": "8144212c-df6f-472f-9fd6-f44f9a591d06",
   "metadata": {},
   "outputs": [
    {
     "data": {
      "text/html": [
       "<div>\n",
       "<style scoped>\n",
       "    .dataframe tbody tr th:only-of-type {\n",
       "        vertical-align: middle;\n",
       "    }\n",
       "\n",
       "    .dataframe tbody tr th {\n",
       "        vertical-align: top;\n",
       "    }\n",
       "\n",
       "    .dataframe thead th {\n",
       "        text-align: right;\n",
       "    }\n",
       "</style>\n",
       "<table border=\"1\" class=\"dataframe\">\n",
       "  <thead>\n",
       "    <tr style=\"text-align: right;\">\n",
       "      <th></th>\n",
       "      <th>artist</th>\n",
       "      <th>song</th>\n",
       "      <th>text</th>\n",
       "    </tr>\n",
       "  </thead>\n",
       "  <tbody>\n",
       "    <tr>\n",
       "      <th>0</th>\n",
       "      <td>Wanda Jackson</td>\n",
       "      <td>No Place To Go But Home</td>\n",
       "      <td>they turned out the lights friends have said t...</td>\n",
       "    </tr>\n",
       "    <tr>\n",
       "      <th>1</th>\n",
       "      <td>Tragically Hip</td>\n",
       "      <td>Let's Stay Engaged</td>\n",
       "      <td>it might be late  \\r but it won't be early  \\r...</td>\n",
       "    </tr>\n",
       "    <tr>\n",
       "      <th>2</th>\n",
       "      <td>Alice Cooper</td>\n",
       "      <td>Little By Little</td>\n",
       "      <td>black leather gloves and your lipstick shines ...</td>\n",
       "    </tr>\n",
       "    <tr>\n",
       "      <th>3</th>\n",
       "      <td>Natalie Grant</td>\n",
       "      <td>Wonderful Life</td>\n",
       "      <td>beautiful is in the sky  \\r watch it slowly  \\...</td>\n",
       "    </tr>\n",
       "    <tr>\n",
       "      <th>4</th>\n",
       "      <td>Nine Inch Nails</td>\n",
       "      <td>All Time Low</td>\n",
       "      <td>go  \\r i've heard all i need to know  \\r your ...</td>\n",
       "    </tr>\n",
       "    <tr>\n",
       "      <th>...</th>\n",
       "      <td>...</td>\n",
       "      <td>...</td>\n",
       "      <td>...</td>\n",
       "    </tr>\n",
       "    <tr>\n",
       "      <th>19995</th>\n",
       "      <td>John Legend</td>\n",
       "      <td>Pride, In The Name Of Love</td>\n",
       "      <td>one man come in the name of love  \\r one man c...</td>\n",
       "    </tr>\n",
       "    <tr>\n",
       "      <th>19996</th>\n",
       "      <td>Iron Maiden</td>\n",
       "      <td>Lightning Strikes Twice</td>\n",
       "      <td>i feel the breeze on my face in expectance  \\r...</td>\n",
       "    </tr>\n",
       "    <tr>\n",
       "      <th>19997</th>\n",
       "      <td>Nirvana</td>\n",
       "      <td>Oh Me</td>\n",
       "      <td>if i had to lose a mile  \\r if i had to touch ...</td>\n",
       "    </tr>\n",
       "    <tr>\n",
       "      <th>19998</th>\n",
       "      <td>Justin Bieber</td>\n",
       "      <td>Go The Distance</td>\n",
       "      <td>i have often dreamed  \\r of a far off place  \\...</td>\n",
       "    </tr>\n",
       "    <tr>\n",
       "      <th>19999</th>\n",
       "      <td>Roy Orbison</td>\n",
       "      <td>Hey Good Lookin'</td>\n",
       "      <td>hey, good lookin' what you got cookin'?  \\r ho...</td>\n",
       "    </tr>\n",
       "  </tbody>\n",
       "</table>\n",
       "<p>20000 rows × 3 columns</p>\n",
       "</div>"
      ],
      "text/plain": [
       "                artist                        song  \\\n",
       "0        Wanda Jackson     No Place To Go But Home   \n",
       "1       Tragically Hip          Let's Stay Engaged   \n",
       "2         Alice Cooper            Little By Little   \n",
       "3        Natalie Grant              Wonderful Life   \n",
       "4      Nine Inch Nails                All Time Low   \n",
       "...                ...                         ...   \n",
       "19995      John Legend  Pride, In The Name Of Love   \n",
       "19996      Iron Maiden     Lightning Strikes Twice   \n",
       "19997          Nirvana                       Oh Me   \n",
       "19998    Justin Bieber             Go The Distance   \n",
       "19999      Roy Orbison            Hey Good Lookin'   \n",
       "\n",
       "                                                    text  \n",
       "0      they turned out the lights friends have said t...  \n",
       "1      it might be late  \\r but it won't be early  \\r...  \n",
       "2      black leather gloves and your lipstick shines ...  \n",
       "3      beautiful is in the sky  \\r watch it slowly  \\...  \n",
       "4      go  \\r i've heard all i need to know  \\r your ...  \n",
       "...                                                  ...  \n",
       "19995  one man come in the name of love  \\r one man c...  \n",
       "19996  i feel the breeze on my face in expectance  \\r...  \n",
       "19997  if i had to lose a mile  \\r if i had to touch ...  \n",
       "19998  i have often dreamed  \\r of a far off place  \\...  \n",
       "19999  hey, good lookin' what you got cookin'?  \\r ho...  \n",
       "\n",
       "[20000 rows x 3 columns]"
      ]
     },
     "execution_count": 32,
     "metadata": {},
     "output_type": "execute_result"
    }
   ],
   "source": [
    "df"
   ]
  },
  {
   "cell_type": "code",
   "execution_count": 33,
   "id": "25fb2e39-3253-402e-8c93-42f733b2a0dc",
   "metadata": {},
   "outputs": [],
   "source": [
    "tfid =  TfidfVectorizer(analyzer = \"word\", stop_words = \"english\")"
   ]
  },
  {
   "cell_type": "code",
   "execution_count": 34,
   "id": "a84f8d20-b585-4209-b2e2-f6ded2c0de0b",
   "metadata": {},
   "outputs": [],
   "source": [
    "matrix = tfid.fit_transform(df['text'])"
   ]
  },
  {
   "cell_type": "code",
   "execution_count": 35,
   "id": "3bbeebba-1a58-45ee-9329-a6c7ad8984ec",
   "metadata": {},
   "outputs": [],
   "source": [
    "similar = cosine_similarity(matrix)"
   ]
  },
  {
   "cell_type": "code",
   "execution_count": 36,
   "id": "9f00bfc6-5c40-4975-9c63-227dc386bc34",
   "metadata": {},
   "outputs": [
    {
     "data": {
      "text/plain": [
       "array([1.        , 0.01814001, 0.        , ..., 0.        , 0.02839795,\n",
       "       0.0031637 ], shape=(20000,))"
      ]
     },
     "execution_count": 36,
     "metadata": {},
     "output_type": "execute_result"
    }
   ],
   "source": [
    "similar[0]"
   ]
  },
  {
   "cell_type": "code",
   "execution_count": 38,
   "id": "da691856-e901-4eb2-bd6c-a73433fa0f62",
   "metadata": {},
   "outputs": [
    {
     "data": {
      "text/plain": [
       "np.int64(2642)"
      ]
     },
     "execution_count": 38,
     "metadata": {},
     "output_type": "execute_result"
    }
   ],
   "source": [
    "df[df['song']=='Go The Distance'].index[0]"
   ]
  },
  {
   "cell_type": "markdown",
   "id": "000659a1-94de-4b89-b802-976ccce9b763",
   "metadata": {},
   "source": [
    "### Recommender Function"
   ]
  },
  {
   "cell_type": "code",
   "execution_count": 42,
   "id": "518994d7-982d-4a2e-9b46-52efff319ac8",
   "metadata": {},
   "outputs": [],
   "source": [
    "def recommender(song_name):\n",
    "    idx = df[df['song'] == song_name].index[0]\n",
    "    distance = sorted(list(enumerate(similar[idx])), reverse= True, key = lambda x:x[1])\n",
    "    song=[]\n",
    "    for s_id in distance[1:5]:\n",
    "        song.append(df.iloc[s_id[0]].song)\n",
    "    return song"
   ]
  },
  {
   "cell_type": "code",
   "execution_count": 43,
   "id": "371c18e1-36da-4af0-860b-8b2c59fcf2b4",
   "metadata": {},
   "outputs": [
    {
     "data": {
      "text/plain": [
       "['Go The Distance', 'The Distance', 'Long Distance', 'From A Distance']"
      ]
     },
     "execution_count": 43,
     "metadata": {},
     "output_type": "execute_result"
    }
   ],
   "source": [
    "recommender(\"Go The Distance\")"
   ]
  },
  {
   "cell_type": "code",
   "execution_count": 44,
   "id": "ada20942-5ee1-45c6-b7f7-0eeddcbe360f",
   "metadata": {},
   "outputs": [],
   "source": [
    "import pickle"
   ]
  },
  {
   "cell_type": "code",
   "execution_count": 45,
   "id": "2756693b-e656-438b-a205-1921ac1d1d0f",
   "metadata": {},
   "outputs": [],
   "source": [
    "pickle.dump(similar,open(\"similarity\",\"wb\"))"
   ]
  },
  {
   "cell_type": "code",
   "execution_count": 46,
   "id": "71b05a39-ae45-45df-ac1c-20917ecc472d",
   "metadata": {},
   "outputs": [],
   "source": [
    "pickle.dump(df,open(\"df\",\"wb\"))"
   ]
  }
 ],
 "metadata": {
  "kernelspec": {
   "display_name": "env",
   "language": "python",
   "name": "python3"
  },
  "language_info": {
   "codemirror_mode": {
    "name": "ipython",
    "version": 3
   },
   "file_extension": ".py",
   "mimetype": "text/x-python",
   "name": "python",
   "nbconvert_exporter": "python",
   "pygments_lexer": "ipython3",
   "version": "3.13.0"
  }
 },
 "nbformat": 4,
 "nbformat_minor": 5
}
